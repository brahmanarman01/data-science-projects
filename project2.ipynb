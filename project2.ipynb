{
  "nbformat": 4,
  "nbformat_minor": 0,
  "metadata": {
    "colab": {
      "provenance": [],
      "authorship_tag": "ABX9TyO7E1UpKeYw4BQ0lTyq/wBY",
      "include_colab_link": true
    },
    "kernelspec": {
      "name": "python3",
      "display_name": "Python 3"
    },
    "language_info": {
      "name": "python"
    }
  },
  "cells": [
    {
      "cell_type": "markdown",
      "metadata": {
        "id": "view-in-github",
        "colab_type": "text"
      },
      "source": [
        "<a href=\"https://colab.research.google.com/github/brahmanarman01/data-science-projects/blob/main/project2.ipynb\" target=\"_parent\"><img src=\"https://colab.research.google.com/assets/colab-badge.svg\" alt=\"Open In Colab\"/></a>"
      ]
    },
    {
      "cell_type": "code",
      "source": [
        "data = json.load(open('/content/data2.json'))\n",
        "data"
      ],
      "metadata": {
        "colab": {
          "base_uri": "https://localhost:8080/"
        },
        "id": "ie3GxBk2E35X",
        "outputId": "a7794f98-d8e2-4e78-dcf0-16c60dc53e0a"
      },
      "execution_count": 8,
      "outputs": [
        {
          "output_type": "execute_result",
          "data": {
            "text/plain": [
              "{'users': [{'id': 1, 'name': 'Amit', 'friends': [2, 3], 'liked_pages': [101]},\n",
              "  {'id': 2, 'name': 'Priya', 'friends': [1, 4], 'liked_pages': [102]},\n",
              "  {'id': 3, 'name': '', 'friends': [1], 'liked_pages': [101, 103]},\n",
              "  {'id': 4, 'name': 'Sara', 'friends': [2, 2], 'liked_pages': [104]},\n",
              "  {'id': 5, 'name': 'Amit', 'friends': [], 'liked_pages': []}],\n",
              " 'pages': [{'id': 101, 'name': 'Python Developers'},\n",
              "  {'id': 102, 'name': 'Data Science Enthusiasts'},\n",
              "  {'id': 103, 'name': 'AI & ML Community'},\n",
              "  {'id': 104, 'name': 'Web Dev Hub'},\n",
              "  {'id': 104, 'name': 'Web Development'}]}"
            ]
          },
          "metadata": {},
          "execution_count": 8
        }
      ]
    },
    {
      "cell_type": "code",
      "execution_count": 9,
      "metadata": {
        "colab": {
          "base_uri": "https://localhost:8080/"
        },
        "id": "31OsDy6x5t9U",
        "outputId": "f9be2ba0-08b9-4fa3-ad56-7f6b68b37a55"
      },
      "outputs": [
        {
          "output_type": "execute_result",
          "data": {
            "text/plain": [
              "{'users': [{'id': 1, 'name': 'Amit', 'friends': [2, 3], 'liked_pages': [101]},\n",
              "  {'id': 2, 'name': 'Priya', 'friends': [1, 4], 'liked_pages': [102]},\n",
              "  {'id': 4, 'name': 'Sara', 'friends': [2], 'liked_pages': [104]}],\n",
              " 'pages': [{'id': 101, 'name': 'Python Developers'},\n",
              "  {'id': 102, 'name': 'Data Science Enthusiasts'},\n",
              "  {'id': 103, 'name': 'AI & ML Community'},\n",
              "  {'id': 104, 'name': 'Web Development'}]}"
            ]
          },
          "metadata": {},
          "execution_count": 9
        }
      ],
      "source": [
        "import json\n",
        "def clean_data(data):\n",
        "  ##Remove users with missing names\n",
        "  data['users'] = [user for user in data['users'] if user['name'].strip()]\n",
        "  ##Remove duplicate friends\n",
        "  for user in data['users']:\n",
        "    user['friends'] = list(set(user['friends']))\n",
        "  ##Remove inactive users\n",
        "  data['users'] = [user for user in data['users'] if user['friends'] or user['liked_pages']]\n",
        "  ## Remove duplicate pages\n",
        "  unique_pages={}\n",
        "  for page in data['pages']:\n",
        "    unique_pages[page['id']] = page\n",
        "  data['pages'] = list(unique_pages.values())\n",
        "\n",
        "  return data\n",
        "\n",
        "##Load the data\n",
        "data = json.load(open('/content/data2.json'))\n",
        "data=clean_data(data)\n",
        "json.dump(data,open('cleaned_data2.json','w'),indent=4)\n",
        "data"
      ]
    },
    {
      "cell_type": "code",
      "source": [],
      "metadata": {
        "id": "SoZOJjhjBdjj"
      },
      "execution_count": null,
      "outputs": []
    }
  ]
}