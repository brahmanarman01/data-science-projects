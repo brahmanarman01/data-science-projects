{
  "nbformat": 4,
  "nbformat_minor": 0,
  "metadata": {
    "colab": {
      "provenance": [],
      "authorship_tag": "ABX9TyPS0cfO8TN9/CQacHglLg2V",
      "include_colab_link": true
    },
    "kernelspec": {
      "name": "python3",
      "display_name": "Python 3"
    },
    "language_info": {
      "name": "python"
    }
  },
  "cells": [
    {
      "cell_type": "markdown",
      "metadata": {
        "id": "view-in-github",
        "colab_type": "text"
      },
      "source": [
        "<a href=\"https://colab.research.google.com/github/brahmanarman01/data-science-projects/blob/main/pythonproject.ipynb\" target=\"_parent\"><img src=\"https://colab.research.google.com/assets/colab-badge.svg\" alt=\"Open In Colab\"/></a>"
      ]
    },
    {
      "cell_type": "code",
      "execution_count": 2,
      "metadata": {
        "id": "TRoCzMv6Rv5b"
      },
      "outputs": [],
      "source": [
        "import json"
      ]
    },
    {
      "cell_type": "code",
      "source": [
        "def load_data(filename):\n",
        "    with open(filename, \"r\") as file:\n",
        "        data = json.load(file)\n",
        "    return data"
      ],
      "metadata": {
        "id": "P65TdkdcxeTx"
      },
      "execution_count": 3,
      "outputs": []
    },
    {
      "cell_type": "code",
      "source": [
        "data = load_data('/content/data.json')\n",
        "data"
      ],
      "metadata": {
        "colab": {
          "base_uri": "https://localhost:8080/"
        },
        "id": "6lJRXvt4xuEh",
        "outputId": "94cd1dcb-bd09-4ad4-f411-9f05040f4e82"
      },
      "execution_count": 4,
      "outputs": [
        {
          "output_type": "execute_result",
          "data": {
            "text/plain": [
              "{'users': [{'id': 1, 'name': 'Amit', 'friends': [2, 3], 'liked_pages': [101]},\n",
              "  {'id': 2, 'name': 'Priya', 'friends': [1, 4], 'liked_pages': [102]},\n",
              "  {'id': 3, 'name': 'Rahul', 'friends': [1], 'liked_pages': [101, 103]},\n",
              "  {'id': 4, 'name': 'Sara', 'friends': [2], 'liked_pages': [104]}],\n",
              " 'pages': [{'id': 101, 'name': 'Python Developers'},\n",
              "  {'id': 102, 'name': 'Data Science Enthusiasts'},\n",
              "  {'id': 103, 'name': 'AI & ML Community'},\n",
              "  {'id': 104, 'name': 'Web Dev Hub'}]}"
            ]
          },
          "metadata": {},
          "execution_count": 4
        }
      ]
    },
    {
      "cell_type": "code",
      "source": [
        "def display_users(data):\n",
        "    print(\"Users and Their Connections:\\n\")\n",
        "    for user in data[\"users\"]:\n",
        "        print(f\" ID:{user['name']} (ID: {user['id']}) - Friends: {user['friends']} - Liked Pages: {user['liked_pages']}\")\n",
        "    print(\"\\nPages:\\n\")\n",
        "    for page in data[\"pages\"]:\n",
        "        print(f\"{page['id']}: {page['name']}\")\n",
        "display_users(data)"
      ],
      "metadata": {
        "colab": {
          "base_uri": "https://localhost:8080/"
        },
        "id": "wNOmh2j8x67J",
        "outputId": "3ecb2ca5-b46a-433d-f91d-70021fa94584"
      },
      "execution_count": 7,
      "outputs": [
        {
          "output_type": "stream",
          "name": "stdout",
          "text": [
            "Users and Their Connections:\n",
            "\n",
            " ID:Amit (ID: 1) - Friends: [2, 3] - Liked Pages: [101]\n",
            " ID:Priya (ID: 2) - Friends: [1, 4] - Liked Pages: [102]\n",
            " ID:Rahul (ID: 3) - Friends: [1] - Liked Pages: [101, 103]\n",
            " ID:Sara (ID: 4) - Friends: [2] - Liked Pages: [104]\n",
            "\n",
            "Pages:\n",
            "\n",
            "101: Python Developers\n",
            "102: Data Science Enthusiasts\n",
            "103: AI & ML Community\n",
            "104: Web Dev Hub\n"
          ]
        }
      ]
    }
  ]
}